{
 "cells": [
  {
   "cell_type": "code",
   "execution_count": 1,
   "id": "4dfbf4d8",
   "metadata": {},
   "outputs": [
    {
     "name": "stdout",
     "output_type": "stream",
     "text": [
      "Hello, How are you\n"
     ]
    }
   ],
   "source": [
    "#1 \n",
    "var = \"Hello, How are you\"\n",
    "print(var)"
   ]
  },
  {
   "cell_type": "code",
   "execution_count": 2,
   "id": "fca4d16b",
   "metadata": {},
   "outputs": [
    {
     "name": "stdout",
     "output_type": "stream",
     "text": [
      "Welcome, Home\n"
     ]
    }
   ],
   "source": [
    "#2\n",
    "var = \"Welcome, Home\"\n",
    "print(var)"
   ]
  },
  {
   "cell_type": "code",
   "execution_count": 8,
   "id": "0e53a95f",
   "metadata": {},
   "outputs": [
    {
     "name": "stdout",
     "output_type": "stream",
     "text": [
      "Hello Vinay would you like to learn some Python today?\n"
     ]
    }
   ],
   "source": [
    "#3\n",
    "name = \"Vinay\"\n",
    "print(\"Hello \" + name + \" would you like to learn some Python today?\")"
   ]
  },
  {
   "cell_type": "code",
   "execution_count": 9,
   "id": "190f37bc",
   "metadata": {},
   "outputs": [
    {
     "name": "stdout",
     "output_type": "stream",
     "text": [
      "Once a Wiseman said, Nothing is permanent in this world\n"
     ]
    }
   ],
   "source": [
    "#4\n",
    "print(\"Once a Wiseman said, Nothing is permanent in this world\")"
   ]
  },
  {
   "cell_type": "code",
   "execution_count": 11,
   "id": "2a0e4bff",
   "metadata": {},
   "outputs": [
    {
     "name": "stdout",
     "output_type": "stream",
     "text": [
      "Albert Einstein Once said,A person who never made a mistake never tried anything new.\n"
     ]
    }
   ],
   "source": [
    "#5\n",
    "famous_person = \"Albert Einstein\"\n",
    "message = \"A person who never made a mistake never tried anything new.\"\n",
    "print(famous_person + \" Once said,\" + message)"
   ]
  },
  {
   "cell_type": "code",
   "execution_count": 12,
   "id": "01177819",
   "metadata": {},
   "outputs": [
    {
     "name": "stdout",
     "output_type": "stream",
     "text": [
      "8\n",
      "8\n",
      "8\n",
      "8\n"
     ]
    }
   ],
   "source": [
    "#6\n",
    "print(4+4)\n",
    "print(2*4)\n",
    "print(12-4)\n",
    "print(32//4)"
   ]
  },
  {
   "cell_type": "code",
   "execution_count": 14,
   "id": "3eeef849",
   "metadata": {},
   "outputs": [
    {
     "name": "stdout",
     "output_type": "stream",
     "text": [
      "when 6 is divided by 2, the answer = 3\n"
     ]
    }
   ],
   "source": [
    "#7\n",
    "fav_num = \"3\"\n",
    "print(\"when 6 is divided by 2, the answer = \" + fav_num)"
   ]
  },
  {
   "cell_type": "code",
   "execution_count": 27,
   "id": "e096b823",
   "metadata": {},
   "outputs": [
    {
     "name": "stdout",
     "output_type": "stream",
     "text": [
      "4\n",
      "2\n",
      "4 is greater than 2\n"
     ]
    }
   ],
   "source": [
    "#8 pramod - Feb 14th\n",
    "num1 = input()\n",
    "num2 = input()\n",
    "if num1>num2:\n",
    "    print(num1 + \" is greater than \" + num2 )\n",
    "else:\n",
    "    print(num2 + \" is greater than \" + num1)\n",
    "        "
   ]
  },
  {
   "cell_type": "code",
   "execution_count": 30,
   "id": "592f40d2",
   "metadata": {},
   "outputs": [
    {
     "name": "stdout",
     "output_type": "stream",
     "text": [
      "Hi, How are you?\n"
     ]
    }
   ],
   "source": [
    "#8 pramod - Feb 14th\n",
    "\"\"\"Only Strings can be Concatenated with another String not the int,float or any other data type\"\"\"\n",
    "str1 = \"Hi\"\n",
    "str2 = \"How are you?\"\n",
    "print(str1 + \", \" + str2)"
   ]
  },
  {
   "cell_type": "code",
   "execution_count": 36,
   "id": "276c17f5",
   "metadata": {},
   "outputs": [
    {
     "name": "stdout",
     "output_type": "stream",
     "text": [
      "Pramod\n",
      "Shankar Narayan\n",
      "Sunil\n",
      "Manjesh\n",
      "Sai teja\n",
      "Anil\n"
     ]
    }
   ],
   "source": [
    "#9\n",
    "names = ['Pramod','Shankar Narayan','Sunil','Manjesh','Sai teja', 'Anil']\n",
    "for name in names:\n",
    "    print(name)"
   ]
  },
  {
   "cell_type": "code",
   "execution_count": 39,
   "id": "dc591577",
   "metadata": {},
   "outputs": [
    {
     "name": "stdout",
     "output_type": "stream",
     "text": [
      "Hi,Pramod are you learning Data Science?\n",
      "Hi,Shankar Narayan are you learning Data Science?\n",
      "Hi,Sunil are you learning Data Science?\n",
      "Hi,Manjesh are you learning Data Science?\n",
      "Hi,Sai teja are you learning Data Science?\n",
      "Hi,Anil are you learning Data Science?\n"
     ]
    }
   ],
   "source": [
    "#10\n",
    "for name in names:\n",
    "    print(\"Hi,\" + name + \" are you learning Data Science?\")"
   ]
  },
  {
   "cell_type": "code",
   "execution_count": 43,
   "id": "b36cc146",
   "metadata": {},
   "outputs": [
    {
     "name": "stdout",
     "output_type": "stream",
     "text": [
      "I would like to own a Honda motorcycle.\n",
      "I would like to own a Honda car.\n",
      "I would like to own a Ola electirc motorcycle.\n",
      "-------------------------------------\n",
      "I would like to own a Honda motorcycle.\n",
      "I would like to own a Honda car.\n",
      "I would like to own a Ola electirc motorcycle.\n"
     ]
    }
   ],
   "source": [
    "#11\n",
    "list = ['I would like to own a Honda motorcycle.', 'I would like to own a Honda car.', \n",
    "        'I would like to own a Ola electirc motorcycle.']\n",
    "for statement in list:\n",
    "    print(statement)\n",
    "print(\"-------------------------------------\")\n",
    "for i in range(len(list)):\n",
    "    print(list[i])"
   ]
  }
 ],
 "metadata": {
  "kernelspec": {
   "display_name": "Python 3 (ipykernel)",
   "language": "python",
   "name": "python3"
  },
  "language_info": {
   "codemirror_mode": {
    "name": "ipython",
    "version": 3
   },
   "file_extension": ".py",
   "mimetype": "text/x-python",
   "name": "python",
   "nbconvert_exporter": "python",
   "pygments_lexer": "ipython3",
   "version": "3.11.5"
  }
 },
 "nbformat": 4,
 "nbformat_minor": 5
}
