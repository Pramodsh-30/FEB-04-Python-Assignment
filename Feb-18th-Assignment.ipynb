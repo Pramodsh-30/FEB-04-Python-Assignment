{
 "cells": [
  {
   "cell_type": "code",
   "execution_count": null,
   "id": "5fca104c",
   "metadata": {},
   "outputs": [],
   "source": [
    "#1)\n",
    "sample = str(input(\"Enter the String : \"))\n",
    "print(sample)\n",
    "print(f\"Length of String = {len(sample)}\")"
   ]
  },
  {
   "cell_type": "code",
   "execution_count": 30,
   "id": "6e8f9131",
   "metadata": {},
   "outputs": [
    {
     "name": "stdout",
     "output_type": "stream",
     "text": [
      "Enter the String : Kelvin\n",
      "Kelvin\n",
      "{'k': 1, 'e': 1, 'l': 1, 'v': 1, 'i': 1, 'n': 1}\n"
     ]
    }
   ],
   "source": [
    "#2)\n",
    "str2 = str(input(\"Enter the String : \"))\n",
    "print(str2)\n",
    "set2 = {}\n",
    "for char in str2:\n",
    "    char = char.strip().lower()\n",
    "    if char in set2:\n",
    "        set2[char] += 1\n",
    "    else:\n",
    "        set2[char] = 1 \n",
    "print(set2)"
   ]
  },
  {
   "cell_type": "code",
   "execution_count": 32,
   "id": "258a67bd",
   "metadata": {},
   "outputs": [
    {
     "name": "stdout",
     "output_type": "stream",
     "text": [
      "Given String = Pradeep\n",
      "pradee@\n"
     ]
    }
   ],
   "source": [
    "#3)\n",
    "info = str(input(\"Given String = \"))\n",
    "first_char = info[0].lower()\n",
    "modified_str = first_char + info[1:].replace(first_char,'@')\n",
    "print(modified_str)\n"
   ]
  },
  {
   "cell_type": "code",
   "execution_count": 33,
   "id": "556e281d",
   "metadata": {},
   "outputs": [
    {
     "name": "stdout",
     "output_type": "stream",
     "text": [
      "Befor Swap : abc xyz\n",
      "After Swap : xyc abz\n"
     ]
    }
   ],
   "source": [
    "# 4) xyc abz\n",
    "before_swap = \"abc xyz\"\n",
    "str1 = \"abc\"\n",
    "str2 = \"xyz\"\n",
    "\n",
    "r1 = str2[:2] + str1[2:]\n",
    "r2 = str1[:2] + str2[2:] \n",
    "\n",
    "after_swap = r1 + \" \" + r2\n",
    "print(f\"Befor Swap : {before_swap}\")\n",
    "print(f\"After Swap : {after_swap}\")"
   ]
  },
  {
   "cell_type": "code",
   "execution_count": 34,
   "id": "f0cf6e07",
   "metadata": {},
   "outputs": [
    {
     "name": "stdout",
     "output_type": "stream",
     "text": [
      "Enter the string :Steven Bees\n",
      "Enter the char you want to remove in the given string : e\n",
      "Stven Bees\n"
     ]
    }
   ],
   "source": [
    "#5) \n",
    "str5 = str(input(\"Enter the string :\"))\n",
    "# l = list(str5)\n",
    "remove_char = str(input(\"Enter the char you want to remove in the given string : \"))\n",
    "if remove_char in str5:\n",
    "    new_str = str5.replace(remove_char,'',1)\n",
    "    print(new_str)\n",
    "else:\n",
    "    print(\"Entered char is not present in the string\")\n",
    "    \n",
    "# (removes the character how many times it present)\n",
    "# str5 = str(input(\"Enter the string :\"))\n",
    "# # l = list(str5)\n",
    "# remove_char = str(input(\"Enter the char you want to remove in the given string : \"))\n",
    "# if remove_char in str5:\n",
    "#     new_str = str5.replace(remove_char,'')\n",
    "#     print(new_str)\n",
    "# else:\n",
    "#     print(\"Entered char is not present in the string\")"
   ]
  },
  {
   "cell_type": "code",
   "execution_count": null,
   "id": "e5fcb7a2",
   "metadata": {},
   "outputs": [],
   "source": [
    "#5) without converting a string into list\n",
    "str5 = str(input(\"Enter the string :\"))\n",
    "remove_char = str(input(\"Enter the char you want to remove in the given string : \"))\n",
    "new_str = \"\"\n",
    "index_to_remove = str5.find(remove_char)\n",
    "if remove_char in str5:\n",
    "    for i in range(len(str5)):\n",
    "        if i != index_to_remove:\n",
    "            new_str = new_str + str5[i]\n",
    "    print(new_str)\n",
    "else:\n",
    "    print(\"Entered char is not present in the string\")"
   ]
  },
  {
   "cell_type": "code",
   "execution_count": null,
   "id": "cd85f183",
   "metadata": {},
   "outputs": [],
   "source": [
    "#5) converting the string into list and again traversed back to string\n",
    "str5 = str(input(\"Enter the string : \"))\n",
    "new_string = \"\"\n",
    "l = list(str5)\n",
    "remove_char = str(input(\"Enter the char you want to remove in the given string : \"))\n",
    "if remove_char in l:\n",
    "    l.remove(remove_char)\n",
    "    for char in l:\n",
    "        new_string += char\n",
    "    print(new_string)\n",
    "else:\n",
    "    print(\"Entered char is not present in the string\")"
   ]
  },
  {
   "cell_type": "code",
   "execution_count": 35,
   "id": "0c83f4e8",
   "metadata": {},
   "outputs": [
    {
     "name": "stdout",
     "output_type": "stream",
     "text": [
      "nythonP\n"
     ]
    }
   ],
   "source": [
    "#6)\n",
    "Before_exchange = \"Python\"\n",
    "after_exchange = Before_exchange[-1] + Before_exchange[1:] + Before_exchange[0:1]\n",
    "print(after_exchange)"
   ]
  },
  {
   "cell_type": "code",
   "execution_count": 40,
   "id": "45b36736",
   "metadata": {},
   "outputs": [
    {
     "name": "stdout",
     "output_type": "stream",
     "text": [
      "Enter the String: Pramod\n",
      "Pao\n"
     ]
    }
   ],
   "source": [
    "#7) \n",
    "t = str(input(\"Enter the String: \"))\n",
    "p = \"\"\n",
    "for i in range(len(t)):\n",
    "    if (i%2==0):\n",
    "        p += t[i]\n",
    "print(p)\n",
    "    "
   ]
  },
  {
   "cell_type": "code",
   "execution_count": null,
   "id": "628bed2c",
   "metadata": {},
   "outputs": [],
   "source": [
    "#8)\n",
    "sentence = str(input(\"Enter the String: \"))\n",
    "words = sentence.split()\n",
    "print(words)\n",
    "dict8 = {}\n",
    "for word in words:\n",
    "    word = word.lower()\n",
    "    # here we are assigining the values(in integers) to the keys of dictionary\n",
    "    dict8[word] = dict8.get(word,0) + 1\n",
    "print(dict8)"
   ]
  },
  {
   "cell_type": "code",
   "execution_count": null,
   "id": "6467cadd",
   "metadata": {},
   "outputs": [],
   "source": [
    "# sd = {}\n",
    "# sd['abc'] = (sd.get('abc',0)) + 1\n",
    "# print(sd)\n",
    "# sd['abc'] = (sd.get('abc',0)) + 1\n",
    "# print(sd)"
   ]
  },
  {
   "cell_type": "code",
   "execution_count": null,
   "id": "9fe52510",
   "metadata": {},
   "outputs": [],
   "source": [
    "#9)\n",
    "def upper_lower(data):\n",
    "    up_result = data.upper()\n",
    "    print(\"The upper string is : \" + up_result)\n",
    "    lw_result = data.lower()\n",
    "    print(\"The lower string is : \" + lw_result)\n",
    "    \n",
    "\n",
    "input9 = str(input(\"Enter the String: \"))\n",
    "upper_lower(input9)"
   ]
  },
  {
   "cell_type": "code",
   "execution_count": 1,
   "id": "66b2545f",
   "metadata": {},
   "outputs": [
    {
     "name": "stdout",
     "output_type": "stream",
     "text": [
      "Enter the String: Anaconda\n",
      "adnocanA\n"
     ]
    }
   ],
   "source": [
    "#10)\n",
    "input10 = str(input(\"Enter the String: \"))\n",
    "len_str = len(input10)\n",
    "if (len_str%4 == 0):\n",
    "    new_str10 = input10[::-1]\n",
    "    print(new_str10)\n",
    "else:\n",
    "    print(input10)"
   ]
  },
  {
   "cell_type": "code",
   "execution_count": 3,
   "id": "f631994f",
   "metadata": {},
   "outputs": [
    {
     "name": "stdout",
     "output_type": "stream",
     "text": [
      "Enter the String: PRASad\n",
      "PRASAD\n"
     ]
    }
   ],
   "source": [
    "#11)\n",
    "def upper(imp):\n",
    "    counter = 0\n",
    "    for i in range(len(imp[:4])):\n",
    "        if imp[i] == imp[i].upper():\n",
    "            counter += 1\n",
    "    if counter >= 2:\n",
    "        imp = imp.upper()\n",
    "        print(imp)\n",
    "    else:\n",
    "        print(imp)\n",
    "input11 = str(input(\"Enter the String: \"))\n",
    "result11 = upper(input11)"
   ]
  },
  {
   "cell_type": "code",
   "execution_count": 4,
   "id": "f818ff52",
   "metadata": {},
   "outputs": [
    {
     "name": "stdout",
     "output_type": "stream",
     "text": [
      "Enter the String: PamPapaTHi\n",
      "Sorted string in lexicographically: ['H', 'P', 'P', 'T', 'a', 'a', 'a', 'i', 'm', 'p']\n"
     ]
    }
   ],
   "source": [
    "#12)\n",
    "input12 = str(input(\"Enter the String: \"))\n",
    "sorted_str = sorted(input12)\n",
    "print(f\"Sorted string in lexicographically: {sorted_str}\")"
   ]
  },
  {
   "cell_type": "code",
   "execution_count": 9,
   "id": "c4f8998a",
   "metadata": {},
   "outputs": [
    {
     "name": "stdout",
     "output_type": "stream",
     "text": [
      "Tutor \n",
      "Joes \n",
      "Computer \n",
      "Education\n",
      "\n",
      "Tutor Joes Computer Education\n"
     ]
    }
   ],
   "source": [
    "#13)\n",
    "input13 = \"Tutor \\nJoes \\nComputer \\nEducation\\n\"\n",
    "print(input13)\n",
    "After_Remove_NewLine = input13.replace(\"\\n\",\"\")\n",
    "print(After_Remove_NewLine)"
   ]
  },
  {
   "cell_type": "code",
   "execution_count": 12,
   "id": "5d522163",
   "metadata": {},
   "outputs": [
    {
     "name": "stdout",
     "output_type": "stream",
     "text": [
      "Enter the String: Pramod\n",
      "Enter the string want to check: pr\n",
      "True\n"
     ]
    }
   ],
   "source": [
    "#14)\n",
    "input14 = str(input(\"Enter the String: \"))\n",
    "prefix_check = str(input(\"Enter the string want to check: \"))\n",
    "if input14[:2].lower() == prefix_check.lower():\n",
    "    print(\"True\")\n",
    "else:\n",
    "    print(\"False\")"
   ]
  },
  {
   "cell_type": "code",
   "execution_count": 16,
   "id": "dc7da0bb",
   "metadata": {},
   "outputs": [
    {
     "name": "stdout",
     "output_type": "stream",
     "text": [
      "Formatted Text (Width 35) :\n",
      " Python is an interpreted, object-\n",
      "oriented, high-level programming\n",
      "language that can be used for a\n",
      "wide variety of applications.\n",
      "Python is a powerful general-\n",
      "purpose programming language.\n",
      "\n",
      "Formatted Text (Width 70) :\n",
      " Python is an interpreted, object-oriented, high-level programming\n",
      "language that can be used for a wide variety of applications. Python\n",
      "is a powerful general-purpose programming language.\n"
     ]
    }
   ],
   "source": [
    "#15)\n",
    "import textwrap\n",
    "\n",
    "input15 = \"Python is an interpreted, object-oriented, high-level programming language that can be used for a wide variety of applications. Python is a powerful general-purpose programming language.\"\n",
    "\n",
    "# Format text with width=35\n",
    "formatted_text_35 = textwrap.fill(input15, width=35)\n",
    "\n",
    "# Format text with width=70\n",
    "formatted_text_70 = textwrap.fill(input15, width=70)\n",
    "\n",
    "# Print the formatted text\n",
    "print(\"Formatted Text (Width 35) :\\n\", formatted_text_35)\n",
    "print(\"\\nFormatted Text (Width 70) :\\n\", formatted_text_70)\n"
   ]
  },
  {
   "cell_type": "code",
   "execution_count": 19,
   "id": "bb829786",
   "metadata": {},
   "outputs": [
    {
     "name": "stdout",
     "output_type": "stream",
     "text": [
      "Original text :\n",
      "\n",
      "              Python is an interpreted, object-oriented, high-level programming language\n",
      "              that can be used for a wide variety of applications. Python is a powerful\n",
      "              general-purpose programming language.\n",
      "\n",
      "Dedented text :\n",
      "\n",
      "Python is an interpreted, object-oriented, high-level programming language\n",
      "that can be used for a wide variety of applications. Python is a powerful\n",
      "general-purpose programming language.\n",
      "\n"
     ]
    }
   ],
   "source": [
    "#16) \n",
    "text_with_indentation = \"\"\"\n",
    "              Python is an interpreted, object-oriented, high-level programming language\n",
    "              that can be used for a wide variety of applications. Python is a powerful\n",
    "              general-purpose programming language.\n",
    "\"\"\"\n",
    "\n",
    "# Display the original text\n",
    "print(\"Original text :\")\n",
    "print(text_with_indentation)\n",
    "\n",
    "# Remove existing indentation\n",
    "dedented_text = textwrap.dedent(text_with_indentation)\n",
    "\n",
    "# Display the dedented text\n",
    "print(\"Dedented text :\")\n",
    "print(dedented_text)\n"
   ]
  },
  {
   "cell_type": "code",
   "execution_count": 29,
   "id": "4c42166f",
   "metadata": {},
   "outputs": [
    {
     "name": "stdout",
     "output_type": "stream",
     "text": [
      "* Python is an interpreted, object-oriented, high-level programming language\n",
      "* that can be used for a wide variety of applications. Python is a powerful\n",
      "* general-purpose programming language.\n"
     ]
    }
   ],
   "source": [
    "#17) \n",
    "input17 = \"\"\"Python is an interpreted, object-oriented, high-level programming language\n",
    "              that can be used for a wide variety of applications. Python is a powerful\n",
    "              general-purpose programming language.\n",
    "\"\"\"\n",
    "lines = input17.splitlines()\n",
    "\n",
    "prefix = \"*\"\n",
    "result17 = [f\"{prefix} {line.strip()}\" for line in lines ]\n",
    "print(\"\\n\".join(result17))"
   ]
  },
  {
   "cell_type": "code",
   "execution_count": null,
   "id": "54fa2034",
   "metadata": {},
   "outputs": [],
   "source": []
  }
 ],
 "metadata": {
  "kernelspec": {
   "display_name": "Python 3 (ipykernel)",
   "language": "python",
   "name": "python3"
  },
  "language_info": {
   "codemirror_mode": {
    "name": "ipython",
    "version": 3
   },
   "file_extension": ".py",
   "mimetype": "text/x-python",
   "name": "python",
   "nbconvert_exporter": "python",
   "pygments_lexer": "ipython3",
   "version": "3.11.5"
  }
 },
 "nbformat": 4,
 "nbformat_minor": 5
}
